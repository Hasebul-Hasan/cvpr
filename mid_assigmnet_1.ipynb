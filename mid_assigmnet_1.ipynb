{
  "cells": [
    {
      "cell_type": "code",
      "execution_count": 18,
      "metadata": {
        "colab": {
          "base_uri": "https://localhost:8080/"
        },
        "id": "tk2ZWKmg0Fke",
        "outputId": "8b36428d-4f6e-48b8-f081-2835771b0a82"
      },
      "outputs": [
        {
          "name": "stdout",
          "output_type": "stream",
          "text": [
            "[-9, -2, 0, 11, 45]\n"
          ]
        }
      ],
      "source": [
        "def bubble_sort(arr):\n",
        "    \n",
        "  for i in range(len(arr)):\n",
        "    for j in range(0, len(arr) - i - 1):\n",
        "\n",
        "      if arr[j] > arr[j + 1]:\n",
        "        t = arr[j]\n",
        "        arr[j] = arr[j+1]\n",
        "        arr[j+1] = t\n",
        "data = [-2, 45, 0, 11, -9]\n",
        "bubble_sort(data)\n",
        "print(data)"
      ]
    },
    {
      "cell_type": "code",
      "execution_count": 19,
      "metadata": {
        "colab": {
          "base_uri": "https://localhost:8080/"
        },
        "id": "GB0i8cBeLjf-",
        "outputId": "6194b0f1-4bce-4b99-a374-a572f234885e"
      },
      "outputs": [
        {
          "name": "stdout",
          "output_type": "stream",
          "text": [
            "[-9, -2, 0, 11, 45]\n"
          ]
        }
      ],
      "source": [
        "def selection_sort(arr1, len):\n",
        "    for step in range(len):\n",
        "        min = step\n",
        "        for i in range(step + 1, len):\n",
        "            if arr1[i] < arr1[min]:\n",
        "                min = i\n",
        "        (arr1[step], arr1[min]) = (arr1[min], arr1[step])\n",
        "data = [-2, 45, 0, 11, -9]\n",
        "size = len(data)\n",
        "selectionSort(data, size)\n",
        "print(data)"
      ]
    },
    {
      "cell_type": "code",
      "execution_count": 29,
      "metadata": {
        "colab": {
          "base_uri": "https://localhost:8080/"
        },
        "id": "zhrWnRwALvd_",
        "outputId": "c375a67a-fcf5-47ce-a51c-6c2a8e0492c3"
      },
      "outputs": [
        {
          "name": "stdout",
          "output_type": "stream",
          "text": [
            "[1, 3, 4, 5, 9]\n"
          ]
        }
      ],
      "source": [
        "def insertion_sort(arr2):\n",
        "    for step in range(1, len(arr2)):\n",
        "        k = arr2[step]\n",
        "        l = lambda s : s - 1\n",
        "        j= l(step)\n",
        "        while j >= 0 and k < arr2[j]:\n",
        "            arr2[j + 1] = arr2[j]\n",
        "            j = j - 1\n",
        "        arr2[j + 1] = k\n",
        "res = [9, 5, 1, 4, 3]\n",
        "insertion_sort(res)\n",
        "print(res)"
      ]
    }
  ],
  "metadata": {
    "colab": {
      "collapsed_sections": [],
      "name": "sorting.ipynb",
      "provenance": []
    },
    "kernelspec": {
      "display_name": "Python 3",
      "name": "python3"
    },
    "language_info": {
      "name": "python"
    }
  },
  "nbformat": 4,
  "nbformat_minor": 0
}
